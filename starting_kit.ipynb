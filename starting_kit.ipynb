{
 "cells": [
  {
   "cell_type": "markdown",
   "metadata": {},
   "source": [
    "<img src=\"img/saclay_center.png\" width=\"800\" height=\"600\">"
   ]
  },
  {
   "cell_type": "markdown",
   "metadata": {},
   "source": [
    "<center> <font color=\"blue\"><h2>  Datacamp Challenge : Prediction of daily transport validation in Paris public underground transports </h2> </center>"
   ]
  },
  {
   "cell_type": "markdown",
   "metadata": {},
   "source": [
    "<center> <h4> Authors :Dina ABED , Siwar ABBES , Mohamed Skander HELLAL, Gwendal HENGOAT, Philippe DE SAINT CHAMAS, Jules ZACCARDI </h4> </center>"
   ]
  },
  {
   "cell_type": "markdown",
   "metadata": {},
   "source": [
    "<img src=\"img/sncf.jpg\" width=\"600\" height=\"600\">"
   ]
  },
  {
   "cell_type": "markdown",
   "metadata": {},
   "source": [
    "### Table of contents\n",
    "1. [Business Case](#Businesscase)\n",
    "2. [Libraries to install](#Libraries)\n",
    "3. [Data for the challenge](#Data)\n",
    "4. [Exploratory Data analysis](#Data-exploration)\n",
    "5. [Prediction](#Prediction)\n",
    "6. [Evaluation](#Evaluation)\n",
    "7. [Local testing](#Local-testing)"
   ]
  },
  {
   "cell_type": "markdown",
   "metadata": {},
   "source": [
    "<a id='Businesscase'></a>\n",
    "## 1. Business Case"
   ]
  },
  {
   "cell_type": "markdown",
   "metadata": {},
   "source": [
    "### 1.1.Introduction"
   ]
  },
  {
   "cell_type": "markdown",
   "metadata": {},
   "source": [
    "Since 2017, the Autonomous Parisian Transportation Administration (aka RATP in french) has chosen to associate itself with a comprehensive Open Data approach, which the French government has initiated with its Etalab mission, along with certain other local governments and administrations, by making some of its data accessible and usable by all. \n",
    "In this perspective, many databases are accessible online by anyone here : https://dataratp.opendatasoft.com/explore/?sort=modified. \n",
    "\n",
    "The goal of this challenge is to work with open data. There is a lot to do in exploiting public data and building machine learning models to improve public services. In large metropolis, there are many sources of public data which can easily made available through data collection protocols and powerful APIs. \n",
    "\n",
    "In Paris urban area, today almost 3 billion validation in the metro systems are counted each year and this number is continuously improving. Handling public transports in an optimal way is one of the most important challenges for a city as global and evolving as Paris. It is our responsibility to work on improving it.  "
   ]
  },
  {
   "cell_type": "markdown",
   "metadata": {},
   "source": [
    "### 1.2.Business problem"
   ]
  },
  {
   "cell_type": "markdown",
   "metadata": {},
   "source": [
    "Public transports face a great deal of issues. One of them is the management of the stations. There is a need of staff to open and close the station and to help travellers. There is a possibility of opening stores in the metro station and putting public toilets in it. \n",
    "\n",
    "Knowing how many people come into a given metro station each day, RATP can affect the appriopriate amount of staff, it can decide to open new toilets and to sell spots to stores. \n"
   ]
  },
  {
   "cell_type": "markdown",
   "metadata": {},
   "source": [
    "### 1.3.Challenge aim"
   ]
  },
  {
   "cell_type": "markdown",
   "metadata": {},
   "source": [
    "This challenge is a regression task which aims at predicting the number of validation in a metro station per day. "
   ]
  },
  {
   "cell_type": "markdown",
   "metadata": {},
   "source": [
    "### 1.4.Business Metric"
   ]
  },
  {
   "cell_type": "markdown",
   "metadata": {},
   "source": [
    "For this challenge we shall use the **Log-Cosh Loss**.\n",
    "It is defined as follows:\n",
    "$$ L(y,y^p) = \\sum_{i = 1}^n log(cosh(y_i^p-y_i)). $$\n",
    "\n",
    "It is close to $x^2/2$ for small values and $|x|-log(2)$ for large values. \n",
    "\n",
    "It works like the mean squared error but is robust to outlayers with larges values. It has the advantage on the Huber loss that it is twice derivable which can be useful for some regression methods. "
   ]
  },
  {
   "cell_type": "markdown",
   "metadata": {},
   "source": [
    "<a id='Libraries'></a>\n",
    "## 2.Libraries to install"
   ]
  },
  {
   "cell_type": "markdown",
   "metadata": {},
   "source": [
    "This starting kit requires the following libraries:\n",
    "\n",
    "* `numpy`\n",
    "* `pandas`\n",
    "* `seaborn`\n",
    "* `scikit-learn`\n",
    "* `matplolib`\n",
    "* `folium`\n",
    "* `calendar`\n",
    "* `datetime`\n",
    "* `IPythhon`\n",
    "\n",
    "We recommand you to install these libraries using `conda` (using the [`Anaconda`](https://www.anaconda.com/distribution/) distribution)."
   ]
  },
  {
   "cell_type": "markdown",
   "metadata": {},
   "source": [
    "For this challenge, `ramp-workflow` is also needed. This can be installed from the master branch on GitHub:\n",
    "\n",
    "      python -m pip install https://api.github.com/repos/paris-saclay-cds/ramp-workflow/zipball/master"
   ]
  },
  {
   "cell_type": "markdown",
   "metadata": {},
   "source": [
    "<a id='Data'></a>\n",
    "## 3 . Data for the challenge"
   ]
  },
  {
   "cell_type": "markdown",
   "metadata": {},
   "source": [
    "un descriptif du data que nous allons utiliser"
   ]
  },
  {
   "cell_type": "markdown",
   "metadata": {},
   "source": [
    "### Import Libraries"
   ]
  },
  {
   "cell_type": "code",
   "execution_count": 1,
   "metadata": {},
   "outputs": [],
   "source": [
    "import sys\n",
    "import numpy as np\n",
    "import pandas as pd \n",
    "import matplotlib.pyplot as plt\n",
    "import seaborn as sns\n",
    "import warnings\n",
    "import os\n",
    "import folium\n",
    "import pandas as pd\n",
    "import calendar\n",
    "\n",
    "from datetime import timedelta, date\n",
    "from IPython.display import display\n",
    "from folium import Popup\n",
    "\n",
    "%matplotlib inline\n",
    "sns.set_style('ticks')\n",
    "sns.set(rc={'figure.figsize':(13.7,9.27)})\n",
    "warnings.filterwarnings('ignore')"
   ]
  },
  {
   "cell_type": "markdown",
   "metadata": {},
   "source": [
    "### Loading the Data"
   ]
  },
  {
   "cell_type": "code",
   "execution_count": 2,
   "metadata": {},
   "outputs": [],
   "source": [
    "# Load train data\n",
    "#X_train , y_train = get_train_data() (A faire quand problem.py sere prêt)\n",
    "#X_train.shape , y_train.shape\n",
    "X_train = pd.read_csv('data_challenge.csv') "
   ]
  },
  {
   "cell_type": "code",
   "execution_count": 3,
   "metadata": {},
   "outputs": [
    {
     "data": {
      "text/html": [
       "<div>\n",
       "<style scoped>\n",
       "    .dataframe tbody tr th:only-of-type {\n",
       "        vertical-align: middle;\n",
       "    }\n",
       "\n",
       "    .dataframe tbody tr th {\n",
       "        vertical-align: top;\n",
       "    }\n",
       "\n",
       "    .dataframe thead th {\n",
       "        text-align: right;\n",
       "    }\n",
       "</style>\n",
       "<table border=\"1\" class=\"dataframe\">\n",
       "  <thead>\n",
       "    <tr style=\"text-align: right;\">\n",
       "      <th></th>\n",
       "      <th>JOUR</th>\n",
       "      <th>LIBELLE_ARRET</th>\n",
       "      <th>NB_VALD</th>\n",
       "      <th>lon</th>\n",
       "      <th>lat</th>\n",
       "      <th>res_com</th>\n",
       "      <th>mode_</th>\n",
       "      <th>principal</th>\n",
       "      <th>nb_rer</th>\n",
       "      <th>nb_metro</th>\n",
       "      <th>...</th>\n",
       "      <th>Nbre plateformes</th>\n",
       "      <th>duree</th>\n",
       "      <th>type_inc</th>\n",
       "      <th>num_inc</th>\n",
       "      <th>est_greve</th>\n",
       "      <th>Jour de la semaine</th>\n",
       "      <th>Horaire en jour normal</th>\n",
       "      <th>Horaire en jour férié</th>\n",
       "      <th>est_jour_ferie</th>\n",
       "      <th>type_jour</th>\n",
       "    </tr>\n",
       "  </thead>\n",
       "  <tbody>\n",
       "    <tr>\n",
       "      <th>0</th>\n",
       "      <td>2015-01-01</td>\n",
       "      <td>ABBESSES</td>\n",
       "      <td>750</td>\n",
       "      <td>48.884505</td>\n",
       "      <td>2.338365</td>\n",
       "      <td>M12</td>\n",
       "      <td>Metro</td>\n",
       "      <td>0.0</td>\n",
       "      <td>0.0</td>\n",
       "      <td>1.0</td>\n",
       "      <td>...</td>\n",
       "      <td>NaN</td>\n",
       "      <td>NaN</td>\n",
       "      <td>NaN</td>\n",
       "      <td>NaN</td>\n",
       "      <td>0.0</td>\n",
       "      <td>Thursday</td>\n",
       "      <td>NaN</td>\n",
       "      <td>NaN</td>\n",
       "      <td>1</td>\n",
       "      <td>Jour de l'an</td>\n",
       "    </tr>\n",
       "    <tr>\n",
       "      <th>1</th>\n",
       "      <td>2015-01-01</td>\n",
       "      <td>ABLON</td>\n",
       "      <td>118</td>\n",
       "      <td>NaN</td>\n",
       "      <td>NaN</td>\n",
       "      <td>RER C</td>\n",
       "      <td>RER</td>\n",
       "      <td>0.0</td>\n",
       "      <td>NaN</td>\n",
       "      <td>NaN</td>\n",
       "      <td>...</td>\n",
       "      <td>1.0</td>\n",
       "      <td>NaN</td>\n",
       "      <td>NaN</td>\n",
       "      <td>NaN</td>\n",
       "      <td>0.0</td>\n",
       "      <td>Thursday</td>\n",
       "      <td>NaN</td>\n",
       "      <td>NaN</td>\n",
       "      <td>1</td>\n",
       "      <td>Jour de l'an</td>\n",
       "    </tr>\n",
       "    <tr>\n",
       "      <th>2</th>\n",
       "      <td>2015-01-01</td>\n",
       "      <td>ACHERES-GRAND-CORMIER</td>\n",
       "      <td>18</td>\n",
       "      <td>48.955388</td>\n",
       "      <td>2.092457</td>\n",
       "      <td>RER A</td>\n",
       "      <td>RER</td>\n",
       "      <td>0.0</td>\n",
       "      <td>1.0</td>\n",
       "      <td>0.0</td>\n",
       "      <td>...</td>\n",
       "      <td>NaN</td>\n",
       "      <td>NaN</td>\n",
       "      <td>NaN</td>\n",
       "      <td>NaN</td>\n",
       "      <td>0.0</td>\n",
       "      <td>Thursday</td>\n",
       "      <td>NaN</td>\n",
       "      <td>NaN</td>\n",
       "      <td>1</td>\n",
       "      <td>Jour de l'an</td>\n",
       "    </tr>\n",
       "    <tr>\n",
       "      <th>3</th>\n",
       "      <td>2015-01-01</td>\n",
       "      <td>ACHERES-VILLE</td>\n",
       "      <td>482</td>\n",
       "      <td>48.970248</td>\n",
       "      <td>2.077672</td>\n",
       "      <td>LIGNE L / RER A</td>\n",
       "      <td>Train / RER</td>\n",
       "      <td>0.0</td>\n",
       "      <td>1.0</td>\n",
       "      <td>0.0</td>\n",
       "      <td>...</td>\n",
       "      <td>NaN</td>\n",
       "      <td>NaN</td>\n",
       "      <td>NaN</td>\n",
       "      <td>NaN</td>\n",
       "      <td>0.0</td>\n",
       "      <td>Thursday</td>\n",
       "      <td>NaN</td>\n",
       "      <td>NaN</td>\n",
       "      <td>1</td>\n",
       "      <td>Jour de l'an</td>\n",
       "    </tr>\n",
       "    <tr>\n",
       "      <th>4</th>\n",
       "      <td>2015-01-01</td>\n",
       "      <td>AEROPORT CHARLES DE GAULLE 1</td>\n",
       "      <td>1257</td>\n",
       "      <td>49.010400</td>\n",
       "      <td>2.561357</td>\n",
       "      <td>RER B / CDGVAL</td>\n",
       "      <td>RER / Navette</td>\n",
       "      <td>0.0</td>\n",
       "      <td>1.0</td>\n",
       "      <td>0.0</td>\n",
       "      <td>...</td>\n",
       "      <td>NaN</td>\n",
       "      <td>NaN</td>\n",
       "      <td>NaN</td>\n",
       "      <td>NaN</td>\n",
       "      <td>0.0</td>\n",
       "      <td>Thursday</td>\n",
       "      <td>NaN</td>\n",
       "      <td>NaN</td>\n",
       "      <td>1</td>\n",
       "      <td>Jour de l'an</td>\n",
       "    </tr>\n",
       "  </tbody>\n",
       "</table>\n",
       "<p>5 rows × 21 columns</p>\n",
       "</div>"
      ],
      "text/plain": [
       "         JOUR                 LIBELLE_ARRET  NB_VALD        lon       lat  \\\n",
       "0  2015-01-01                      ABBESSES      750  48.884505  2.338365   \n",
       "1  2015-01-01                         ABLON      118        NaN       NaN   \n",
       "2  2015-01-01         ACHERES-GRAND-CORMIER       18  48.955388  2.092457   \n",
       "3  2015-01-01                 ACHERES-VILLE      482  48.970248  2.077672   \n",
       "4  2015-01-01  AEROPORT CHARLES DE GAULLE 1     1257  49.010400  2.561357   \n",
       "\n",
       "           res_com          mode_  principal  nb_rer  nb_metro      ...       \\\n",
       "0              M12          Metro        0.0     0.0       1.0      ...        \n",
       "1            RER C            RER        0.0     NaN       NaN      ...        \n",
       "2            RER A            RER        0.0     1.0       0.0      ...        \n",
       "3  LIGNE L / RER A    Train / RER        0.0     1.0       0.0      ...        \n",
       "4   RER B / CDGVAL  RER / Navette        0.0     1.0       0.0      ...        \n",
       "\n",
       "  Nbre plateformes  duree type_inc num_inc  est_greve  Jour de la semaine  \\\n",
       "0              NaN    NaN      NaN     NaN        0.0            Thursday   \n",
       "1              1.0    NaN      NaN     NaN        0.0            Thursday   \n",
       "2              NaN    NaN      NaN     NaN        0.0            Thursday   \n",
       "3              NaN    NaN      NaN     NaN        0.0            Thursday   \n",
       "4              NaN    NaN      NaN     NaN        0.0            Thursday   \n",
       "\n",
       "  Horaire en jour normal Horaire en jour férié est_jour_ferie     type_jour  \n",
       "0                    NaN                   NaN              1  Jour de l'an  \n",
       "1                    NaN                   NaN              1  Jour de l'an  \n",
       "2                    NaN                   NaN              1  Jour de l'an  \n",
       "3                    NaN                   NaN              1  Jour de l'an  \n",
       "4                    NaN                   NaN              1  Jour de l'an  \n",
       "\n",
       "[5 rows x 21 columns]"
      ]
     },
     "execution_count": 3,
     "metadata": {},
     "output_type": "execute_result"
    }
   ],
   "source": [
    "#X_train.head() (A faire quand problem.py sere prêt)\n",
    "# Provisoirement avec toute la data:\n",
    "X_train.head()"
   ]
  },
  {
   "cell_type": "markdown",
   "metadata": {},
   "source": [
    "The data is composed of x features and y observations.Each observation corresponds to + explication des features ...."
   ]
  },
  {
   "cell_type": "code",
   "execution_count": 4,
   "metadata": {},
   "outputs": [
    {
     "data": {
      "text/html": [
       "<div>\n",
       "<style scoped>\n",
       "    .dataframe tbody tr th:only-of-type {\n",
       "        vertical-align: middle;\n",
       "    }\n",
       "\n",
       "    .dataframe tbody tr th {\n",
       "        vertical-align: top;\n",
       "    }\n",
       "\n",
       "    .dataframe thead th {\n",
       "        text-align: right;\n",
       "    }\n",
       "</style>\n",
       "<table border=\"1\" class=\"dataframe\">\n",
       "  <thead>\n",
       "    <tr style=\"text-align: right;\">\n",
       "      <th></th>\n",
       "      <th>NB_VALD</th>\n",
       "      <th>lon</th>\n",
       "      <th>lat</th>\n",
       "      <th>principal</th>\n",
       "      <th>nb_rer</th>\n",
       "      <th>nb_metro</th>\n",
       "      <th>Nbre plateformes</th>\n",
       "      <th>num_inc</th>\n",
       "      <th>est_greve</th>\n",
       "      <th>est_jour_ferie</th>\n",
       "    </tr>\n",
       "  </thead>\n",
       "  <tbody>\n",
       "    <tr>\n",
       "      <th>count</th>\n",
       "      <td>1.047319e+06</td>\n",
       "      <td>559590.000000</td>\n",
       "      <td>559590.000000</td>\n",
       "      <td>1.015031e+06</td>\n",
       "      <td>523080.000000</td>\n",
       "      <td>523080.000000</td>\n",
       "      <td>266542.0</td>\n",
       "      <td>130673.000000</td>\n",
       "      <td>1.047319e+06</td>\n",
       "      <td>1.047319e+06</td>\n",
       "    </tr>\n",
       "    <tr>\n",
       "      <th>mean</th>\n",
       "      <td>6.342510e+03</td>\n",
       "      <td>48.859174</td>\n",
       "      <td>2.343714</td>\n",
       "      <td>1.007812e-01</td>\n",
       "      <td>0.236484</td>\n",
       "      <td>1.024870</td>\n",
       "      <td>1.0</td>\n",
       "      <td>7.186993</td>\n",
       "      <td>1.986959e-01</td>\n",
       "      <td>3.054466e-02</td>\n",
       "    </tr>\n",
       "    <tr>\n",
       "      <th>std</th>\n",
       "      <td>1.103470e+04</td>\n",
       "      <td>0.048950</td>\n",
       "      <td>0.094432</td>\n",
       "      <td>3.010389e-01</td>\n",
       "      <td>0.432623</td>\n",
       "      <td>0.808764</td>\n",
       "      <td>0.0</td>\n",
       "      <td>19.867400</td>\n",
       "      <td>3.990188e-01</td>\n",
       "      <td>1.720805e-01</td>\n",
       "    </tr>\n",
       "    <tr>\n",
       "      <th>min</th>\n",
       "      <td>5.000000e+00</td>\n",
       "      <td>48.695061</td>\n",
       "      <td>2.012258</td>\n",
       "      <td>0.000000e+00</td>\n",
       "      <td>0.000000</td>\n",
       "      <td>0.000000</td>\n",
       "      <td>1.0</td>\n",
       "      <td>1.000000</td>\n",
       "      <td>0.000000e+00</td>\n",
       "      <td>0.000000e+00</td>\n",
       "    </tr>\n",
       "    <tr>\n",
       "      <th>25%</th>\n",
       "      <td>6.410000e+02</td>\n",
       "      <td>48.839597</td>\n",
       "      <td>2.300818</td>\n",
       "      <td>0.000000e+00</td>\n",
       "      <td>0.000000</td>\n",
       "      <td>1.000000</td>\n",
       "      <td>1.0</td>\n",
       "      <td>1.000000</td>\n",
       "      <td>0.000000e+00</td>\n",
       "      <td>0.000000e+00</td>\n",
       "    </tr>\n",
       "    <tr>\n",
       "      <th>50%</th>\n",
       "      <td>3.461000e+03</td>\n",
       "      <td>48.860240</td>\n",
       "      <td>2.344580</td>\n",
       "      <td>0.000000e+00</td>\n",
       "      <td>0.000000</td>\n",
       "      <td>1.000000</td>\n",
       "      <td>1.0</td>\n",
       "      <td>2.000000</td>\n",
       "      <td>0.000000e+00</td>\n",
       "      <td>0.000000e+00</td>\n",
       "    </tr>\n",
       "    <tr>\n",
       "      <th>75%</th>\n",
       "      <td>8.270000e+03</td>\n",
       "      <td>48.881299</td>\n",
       "      <td>2.386277</td>\n",
       "      <td>0.000000e+00</td>\n",
       "      <td>0.000000</td>\n",
       "      <td>1.000000</td>\n",
       "      <td>1.0</td>\n",
       "      <td>5.000000</td>\n",
       "      <td>0.000000e+00</td>\n",
       "      <td>0.000000e+00</td>\n",
       "    </tr>\n",
       "    <tr>\n",
       "      <th>max</th>\n",
       "      <td>2.190510e+05</td>\n",
       "      <td>49.049765</td>\n",
       "      <td>2.773608</td>\n",
       "      <td>1.000000e+00</td>\n",
       "      <td>2.000000</td>\n",
       "      <td>5.000000</td>\n",
       "      <td>1.0</td>\n",
       "      <td>356.000000</td>\n",
       "      <td>1.000000e+00</td>\n",
       "      <td>1.000000e+00</td>\n",
       "    </tr>\n",
       "  </tbody>\n",
       "</table>\n",
       "</div>"
      ],
      "text/plain": [
       "            NB_VALD            lon            lat     principal  \\\n",
       "count  1.047319e+06  559590.000000  559590.000000  1.015031e+06   \n",
       "mean   6.342510e+03      48.859174       2.343714  1.007812e-01   \n",
       "std    1.103470e+04       0.048950       0.094432  3.010389e-01   \n",
       "min    5.000000e+00      48.695061       2.012258  0.000000e+00   \n",
       "25%    6.410000e+02      48.839597       2.300818  0.000000e+00   \n",
       "50%    3.461000e+03      48.860240       2.344580  0.000000e+00   \n",
       "75%    8.270000e+03      48.881299       2.386277  0.000000e+00   \n",
       "max    2.190510e+05      49.049765       2.773608  1.000000e+00   \n",
       "\n",
       "              nb_rer       nb_metro  Nbre plateformes        num_inc  \\\n",
       "count  523080.000000  523080.000000          266542.0  130673.000000   \n",
       "mean        0.236484       1.024870               1.0       7.186993   \n",
       "std         0.432623       0.808764               0.0      19.867400   \n",
       "min         0.000000       0.000000               1.0       1.000000   \n",
       "25%         0.000000       1.000000               1.0       1.000000   \n",
       "50%         0.000000       1.000000               1.0       2.000000   \n",
       "75%         0.000000       1.000000               1.0       5.000000   \n",
       "max         2.000000       5.000000               1.0     356.000000   \n",
       "\n",
       "          est_greve  est_jour_ferie  \n",
       "count  1.047319e+06    1.047319e+06  \n",
       "mean   1.986959e-01    3.054466e-02  \n",
       "std    3.990188e-01    1.720805e-01  \n",
       "min    0.000000e+00    0.000000e+00  \n",
       "25%    0.000000e+00    0.000000e+00  \n",
       "50%    0.000000e+00    0.000000e+00  \n",
       "75%    0.000000e+00    0.000000e+00  \n",
       "max    1.000000e+00    1.000000e+00  "
      ]
     },
     "execution_count": 4,
     "metadata": {},
     "output_type": "execute_result"
    }
   ],
   "source": [
    "# X_train.describe()\n",
    "X_train.describe()"
   ]
  },
  {
   "cell_type": "code",
   "execution_count": 5,
   "metadata": {},
   "outputs": [
    {
     "data": {
      "text/plain": [
       "JOUR                      0.000000\n",
       "LIBELLE_ARRET             0.000000\n",
       "NB_VALD                   0.000000\n",
       "lon                       0.465693\n",
       "lat                       0.465693\n",
       "res_com                   0.030829\n",
       "mode_                     0.030829\n",
       "principal                 0.030829\n",
       "nb_rer                    0.500553\n",
       "nb_metro                  0.500553\n",
       "Segment DRG               0.746716\n",
       "Nbre plateformes          0.745501\n",
       "duree                     0.875231\n",
       "type_inc                  0.875231\n",
       "num_inc                   0.875231\n",
       "est_greve                 0.000000\n",
       "Jour de la semaine        0.000000\n",
       "Horaire en jour normal    0.974832\n",
       "Horaire en jour férié     0.976707\n",
       "est_jour_ferie            0.000000\n",
       "type_jour                 0.000000\n",
       "dtype: float64"
      ]
     },
     "execution_count": 5,
     "metadata": {},
     "output_type": "execute_result"
    }
   ],
   "source": [
    "X_train.isna().sum() / X_train.shape[0]"
   ]
  },
  {
   "cell_type": "code",
   "execution_count": 6,
   "metadata": {},
   "outputs": [
    {
     "data": {
      "text/plain": [
       "JOUR                       1458\n",
       "LIBELLE_ARRET               735\n",
       "NB_VALD                   44127\n",
       "lon                         385\n",
       "lat                         385\n",
       "res_com                     140\n",
       "mode_                        15\n",
       "principal                     2\n",
       "nb_rer                        3\n",
       "nb_metro                      6\n",
       "Segment DRG                   3\n",
       "Nbre plateformes              1\n",
       "duree                       591\n",
       "type_inc                     11\n",
       "num_inc                     122\n",
       "est_greve                     2\n",
       "Jour de la semaine            7\n",
       "Horaire en jour normal       27\n",
       "Horaire en jour férié        14\n",
       "est_jour_ferie                2\n",
       "type_jour                    13\n",
       "dtype: int64"
      ]
     },
     "execution_count": 6,
     "metadata": {},
     "output_type": "execute_result"
    }
   ],
   "source": [
    "X_train.nunique()"
   ]
  },
  {
   "cell_type": "code",
   "execution_count": 7,
   "metadata": {},
   "outputs": [
    {
     "data": {
      "text/plain": [
       "JOUR                       object\n",
       "LIBELLE_ARRET              object\n",
       "NB_VALD                     int64\n",
       "lon                       float64\n",
       "lat                       float64\n",
       "res_com                    object\n",
       "mode_                      object\n",
       "principal                 float64\n",
       "nb_rer                    float64\n",
       "nb_metro                  float64\n",
       "Segment DRG                object\n",
       "Nbre plateformes          float64\n",
       "duree                      object\n",
       "type_inc                   object\n",
       "num_inc                   float64\n",
       "est_greve                 float64\n",
       "Jour de la semaine         object\n",
       "Horaire en jour normal     object\n",
       "Horaire en jour férié      object\n",
       "est_jour_ferie              int64\n",
       "type_jour                  object\n",
       "dtype: object"
      ]
     },
     "execution_count": 7,
     "metadata": {},
     "output_type": "execute_result"
    }
   ],
   "source": [
    "X_train.dtypes"
   ]
  },
  {
   "cell_type": "markdown",
   "metadata": {},
   "source": [
    "<a id='Data-exploration'></a>\n",
    "##  4 . Exploratory Data analysis"
   ]
  },
  {
   "cell_type": "markdown",
   "metadata": {},
   "source": [
    "### 4.1.Day_Off"
   ]
  },
  {
   "cell_type": "code",
   "execution_count": 8,
   "metadata": {},
   "outputs": [
    {
     "data": {
      "image/png": "[encoded data removed]",
      "text/plain": [
       "<Figure size 504x360 with 1 Axes>"
      ]
     },
     "metadata": {},
     "output_type": "display_data"
    }
   ],
   "source": [
    "data_train_jour_ferie = X_train.groupby('est_jour_ferie').agg({'NB_VALD':'mean'})\n",
    "plt.figure(figsize=(7,5))\n",
    "index = np.arange(data_train_jour_ferie.shape[0])\n",
    "ax = sns.barplot(x=index, y=data_train_jour_ferie['NB_VALD'], data=data_train_jour_ferie, palette=\"Blues_d\")\n",
    "ax = ax.set_xticklabels([\"Business day\",\"Day off\"])\n",
    "plt.ylabel('Average nummber of validations per day')\n",
    "plt.title('Average number of validations per type of day')\n",
    "plt.show()"
   ]
  },
  {
   "cell_type": "code",
   "execution_count": 9,
   "metadata": {},
   "outputs": [
    {
     "data": {
      "image/png": "[encoded data removed]",
      "text/plain": [
       "<Figure size 1080x864 with 1 Axes>"
      ]
     },
     "metadata": {},
     "output_type": "display_data"
    }
   ],
   "source": [
    "data_train_type_jour = X_train.groupby('type_jour').agg({'NB_VALD':'mean'})\n",
    "data_train_type_jour = data_train_type_jour.sort_values(by='NB_VALD', ascending=False)\n",
    "\n",
    "plt.figure(figsize=(15,12))\n",
    "index = np.arange(data_train_type_jour.shape[0])\n",
    "plt.barh(index, data_train_type_jour['NB_VALD'], alpha=0.5, color='r')\n",
    "plt.yticks(range(data_train_type_jour.shape[0]), data_train_type_jour.index)\n",
    "plt.ylabel('day off')\n",
    "plt.xlabel('Average number of validations per day ')\n",
    "plt.title('Average number of validations on each type of day off')\n",
    "plt.show()"
   ]
  },
  {
   "cell_type": "markdown",
   "metadata": {},
   "source": [
    "### 4.2. Number of validations per month"
   ]
  },
  {
   "cell_type": "code",
   "execution_count": 10,
   "metadata": {},
   "outputs": [
    {
     "data": {
      "text/html": [
       "<div>\n",
       "<style scoped>\n",
       "    .dataframe tbody tr th:only-of-type {\n",
       "        vertical-align: middle;\n",
       "    }\n",
       "\n",
       "    .dataframe tbody tr th {\n",
       "        vertical-align: top;\n",
       "    }\n",
       "\n",
       "    .dataframe thead th {\n",
       "        text-align: right;\n",
       "    }\n",
       "</style>\n",
       "<table border=\"1\" class=\"dataframe\">\n",
       "  <thead>\n",
       "    <tr style=\"text-align: right;\">\n",
       "      <th></th>\n",
       "      <th>JOUR</th>\n",
       "      <th>LIBELLE_ARRET</th>\n",
       "      <th>NB_VALD</th>\n",
       "      <th>lon</th>\n",
       "      <th>lat</th>\n",
       "      <th>res_com</th>\n",
       "      <th>mode_</th>\n",
       "      <th>principal</th>\n",
       "      <th>nb_rer</th>\n",
       "      <th>nb_metro</th>\n",
       "      <th>...</th>\n",
       "      <th>duree</th>\n",
       "      <th>type_inc</th>\n",
       "      <th>num_inc</th>\n",
       "      <th>est_greve</th>\n",
       "      <th>Jour de la semaine</th>\n",
       "      <th>Horaire en jour normal</th>\n",
       "      <th>Horaire en jour férié</th>\n",
       "      <th>est_jour_ferie</th>\n",
       "      <th>type_jour</th>\n",
       "      <th>mois</th>\n",
       "    </tr>\n",
       "  </thead>\n",
       "  <tbody>\n",
       "    <tr>\n",
       "      <th>0</th>\n",
       "      <td>2015-01-01</td>\n",
       "      <td>ABBESSES</td>\n",
       "      <td>750</td>\n",
       "      <td>48.884505</td>\n",
       "      <td>2.338365</td>\n",
       "      <td>M12</td>\n",
       "      <td>Metro</td>\n",
       "      <td>0.0</td>\n",
       "      <td>0.0</td>\n",
       "      <td>1.0</td>\n",
       "      <td>...</td>\n",
       "      <td>NaN</td>\n",
       "      <td>NaN</td>\n",
       "      <td>NaN</td>\n",
       "      <td>0.0</td>\n",
       "      <td>Thursday</td>\n",
       "      <td>NaN</td>\n",
       "      <td>NaN</td>\n",
       "      <td>1</td>\n",
       "      <td>Jour de l'an</td>\n",
       "      <td>1</td>\n",
       "    </tr>\n",
       "    <tr>\n",
       "      <th>1</th>\n",
       "      <td>2015-01-01</td>\n",
       "      <td>ABLON</td>\n",
       "      <td>118</td>\n",
       "      <td>NaN</td>\n",
       "      <td>NaN</td>\n",
       "      <td>RER C</td>\n",
       "      <td>RER</td>\n",
       "      <td>0.0</td>\n",
       "      <td>NaN</td>\n",
       "      <td>NaN</td>\n",
       "      <td>...</td>\n",
       "      <td>NaN</td>\n",
       "      <td>NaN</td>\n",
       "      <td>NaN</td>\n",
       "      <td>0.0</td>\n",
       "      <td>Thursday</td>\n",
       "      <td>NaN</td>\n",
       "      <td>NaN</td>\n",
       "      <td>1</td>\n",
       "      <td>Jour de l'an</td>\n",
       "      <td>1</td>\n",
       "    </tr>\n",
       "    <tr>\n",
       "      <th>2</th>\n",
       "      <td>2015-01-01</td>\n",
       "      <td>ACHERES-GRAND-CORMIER</td>\n",
       "      <td>18</td>\n",
       "      <td>48.955388</td>\n",
       "      <td>2.092457</td>\n",
       "      <td>RER A</td>\n",
       "      <td>RER</td>\n",
       "      <td>0.0</td>\n",
       "      <td>1.0</td>\n",
       "      <td>0.0</td>\n",
       "      <td>...</td>\n",
       "      <td>NaN</td>\n",
       "      <td>NaN</td>\n",
       "      <td>NaN</td>\n",
       "      <td>0.0</td>\n",
       "      <td>Thursday</td>\n",
       "      <td>NaN</td>\n",
       "      <td>NaN</td>\n",
       "      <td>1</td>\n",
       "      <td>Jour de l'an</td>\n",
       "      <td>1</td>\n",
       "    </tr>\n",
       "    <tr>\n",
       "      <th>3</th>\n",
       "      <td>2015-01-01</td>\n",
       "      <td>ACHERES-VILLE</td>\n",
       "      <td>482</td>\n",
       "      <td>48.970248</td>\n",
       "      <td>2.077672</td>\n",
       "      <td>LIGNE L / RER A</td>\n",
       "      <td>Train / RER</td>\n",
       "      <td>0.0</td>\n",
       "      <td>1.0</td>\n",
       "      <td>0.0</td>\n",
       "      <td>...</td>\n",
       "      <td>NaN</td>\n",
       "      <td>NaN</td>\n",
       "      <td>NaN</td>\n",
       "      <td>0.0</td>\n",
       "      <td>Thursday</td>\n",
       "      <td>NaN</td>\n",
       "      <td>NaN</td>\n",
       "      <td>1</td>\n",
       "      <td>Jour de l'an</td>\n",
       "      <td>1</td>\n",
       "    </tr>\n",
       "    <tr>\n",
       "      <th>4</th>\n",
       "      <td>2015-01-01</td>\n",
       "      <td>AEROPORT CHARLES DE GAULLE 1</td>\n",
       "      <td>1257</td>\n",
       "      <td>49.010400</td>\n",
       "      <td>2.561357</td>\n",
       "      <td>RER B / CDGVAL</td>\n",
       "      <td>RER / Navette</td>\n",
       "      <td>0.0</td>\n",
       "      <td>1.0</td>\n",
       "      <td>0.0</td>\n",
       "      <td>...</td>\n",
       "      <td>NaN</td>\n",
       "      <td>NaN</td>\n",
       "      <td>NaN</td>\n",
       "      <td>0.0</td>\n",
       "      <td>Thursday</td>\n",
       "      <td>NaN</td>\n",
       "      <td>NaN</td>\n",
       "      <td>1</td>\n",
       "      <td>Jour de l'an</td>\n",
       "      <td>1</td>\n",
       "    </tr>\n",
       "  </tbody>\n",
       "</table>\n",
       "<p>5 rows × 22 columns</p>\n",
       "</div>"
      ],
      "text/plain": [
       "        JOUR                 LIBELLE_ARRET  NB_VALD        lon       lat  \\\n",
       "0 2015-01-01                      ABBESSES      750  48.884505  2.338365   \n",
       "1 2015-01-01                         ABLON      118        NaN       NaN   \n",
       "2 2015-01-01         ACHERES-GRAND-CORMIER       18  48.955388  2.092457   \n",
       "3 2015-01-01                 ACHERES-VILLE      482  48.970248  2.077672   \n",
       "4 2015-01-01  AEROPORT CHARLES DE GAULLE 1     1257  49.010400  2.561357   \n",
       "\n",
       "           res_com          mode_  principal  nb_rer  nb_metro  ...  duree  \\\n",
       "0              M12          Metro        0.0     0.0       1.0  ...    NaN   \n",
       "1            RER C            RER        0.0     NaN       NaN  ...    NaN   \n",
       "2            RER A            RER        0.0     1.0       0.0  ...    NaN   \n",
       "3  LIGNE L / RER A    Train / RER        0.0     1.0       0.0  ...    NaN   \n",
       "4   RER B / CDGVAL  RER / Navette        0.0     1.0       0.0  ...    NaN   \n",
       "\n",
       "   type_inc num_inc est_greve  Jour de la semaine  Horaire en jour normal  \\\n",
       "0       NaN     NaN       0.0            Thursday                     NaN   \n",
       "1       NaN     NaN       0.0            Thursday                     NaN   \n",
       "2       NaN     NaN       0.0            Thursday                     NaN   \n",
       "3       NaN     NaN       0.0            Thursday                     NaN   \n",
       "4       NaN     NaN       0.0            Thursday                     NaN   \n",
       "\n",
       "  Horaire en jour férié est_jour_ferie     type_jour  mois  \n",
       "0                   NaN              1  Jour de l'an     1  \n",
       "1                   NaN              1  Jour de l'an     1  \n",
       "2                   NaN              1  Jour de l'an     1  \n",
       "3                   NaN              1  Jour de l'an     1  \n",
       "4                   NaN              1  Jour de l'an     1  \n",
       "\n",
       "[5 rows x 22 columns]"
      ]
     },
     "execution_count": 10,
     "metadata": {},
     "output_type": "execute_result"
    }
   ],
   "source": [
    "# Feature Engineering : Month\n",
    "X_train['JOUR'] = pd.to_datetime(X_train['JOUR'])\n",
    "X_train['mois'] = X_train['JOUR'].apply( lambda val: val.month)\n",
    "X_train.head()"
   ]
  },
  {
   "cell_type": "code",
   "execution_count": 11,
   "metadata": {},
   "outputs": [
    {
     "data": {
      "image/png": "[encoded data removed]",
      "text/plain": [
       "<Figure size 864x432 with 1 Axes>"
      ]
     },
     "metadata": {},
     "output_type": "display_data"
    }
   ],
   "source": [
    "data_vis = X_train.copy()\n",
    "data_vis['month_name'] = X_train['JOUR'].apply( lambda val: val.month)\n",
    "data_vis = data_vis.groupby('month_name').agg({'NB_VALD': 'mean'}).plot(figsize=(12,6))\n",
    "ticks = list(range(1, 13, 1)) # points on the x axis where labels appear\n",
    "labels = 'Jan', 'Feb', 'Mar', 'Apr', 'May', 'Jun', 'Jul', 'Aug', 'Sep', 'Oct', 'Nov', 'Dec'\n",
    "plt.xticks(ticks,labels)\n",
    "plt.title('Average nummber of validations per month');"
   ]
  },
  {
   "cell_type": "markdown",
   "metadata": {},
   "source": [
    "### 4.3. Number of validations per week_day"
   ]
  },
  {
   "cell_type": "code",
   "execution_count": 12,
   "metadata": {},
   "outputs": [
    {
     "data": {
      "image/png": "[encoded data removed]",
      "text/plain": [
       "<Figure size 864x432 with 1 Axes>"
      ]
     },
     "metadata": {},
     "output_type": "display_data"
    }
   ],
   "source": [
    "days = ['Monday', 'Tuesday', 'Wednesday', 'Thursday', 'Friday', 'Saturday', 'Sunday']\n",
    "X_train.groupby('Jour de la semaine').agg({'NB_VALD': 'mean'}).reindex(days).plot(figsize=(12,6), color='red')\n",
    "ticks = list(range(0, 7, 1)) # points on the x axis where you want the label to appear\n",
    "labels = \"Mon Tues Weds Thurs Fri Sat Sun\".split()\n",
    "plt.xticks(ticks,labels)\n",
    "plt.title('Average nummber of validations per week_day');"
   ]
  },
  {
   "cell_type": "markdown",
   "metadata": {},
   "source": [
    "### 4.4 .Heatmap : Number of validations per station"
   ]
  },
  {
   "cell_type": "code",
   "execution_count": 13,
   "metadata": {},
   "outputs": [
    {
     "data": {
      "text/html": [
       "<div>\n",
       "<style scoped>\n",
       "    .dataframe tbody tr th:only-of-type {\n",
       "        vertical-align: middle;\n",
       "    }\n",
       "\n",
       "    .dataframe tbody tr th {\n",
       "        vertical-align: top;\n",
       "    }\n",
       "\n",
       "    .dataframe thead th {\n",
       "        text-align: right;\n",
       "    }\n",
       "</style>\n",
       "<table border=\"1\" class=\"dataframe\">\n",
       "  <thead>\n",
       "    <tr style=\"text-align: right;\">\n",
       "      <th></th>\n",
       "      <th>LIBELLE_ARRET</th>\n",
       "      <th>NB_VALD</th>\n",
       "      <th>lon</th>\n",
       "      <th>lat</th>\n",
       "      <th>nb_valid_per_month</th>\n",
       "    </tr>\n",
       "  </thead>\n",
       "  <tbody>\n",
       "    <tr>\n",
       "      <th>0</th>\n",
       "      <td>ABBESSES</td>\n",
       "      <td>4432015</td>\n",
       "      <td>48.884505</td>\n",
       "      <td>2.338365</td>\n",
       "      <td>147733</td>\n",
       "    </tr>\n",
       "    <tr>\n",
       "      <th>1</th>\n",
       "      <td>ACHERES-GRAND-CORMIER</td>\n",
       "      <td>67257</td>\n",
       "      <td>48.955388</td>\n",
       "      <td>2.092457</td>\n",
       "      <td>2241</td>\n",
       "    </tr>\n",
       "    <tr>\n",
       "      <th>2</th>\n",
       "      <td>ACHERES-VILLE</td>\n",
       "      <td>4999559</td>\n",
       "      <td>48.970248</td>\n",
       "      <td>2.077672</td>\n",
       "      <td>166651</td>\n",
       "    </tr>\n",
       "    <tr>\n",
       "      <th>3</th>\n",
       "      <td>AEROPORT CHARLES DE GAULLE 1</td>\n",
       "      <td>6359722</td>\n",
       "      <td>49.010400</td>\n",
       "      <td>2.561357</td>\n",
       "      <td>211990</td>\n",
       "    </tr>\n",
       "    <tr>\n",
       "      <th>4</th>\n",
       "      <td>AEROPORT CHARLES DE GAULLE 2-TGV</td>\n",
       "      <td>6776319</td>\n",
       "      <td>49.004199</td>\n",
       "      <td>2.570946</td>\n",
       "      <td>225877</td>\n",
       "    </tr>\n",
       "  </tbody>\n",
       "</table>\n",
       "</div>"
      ],
      "text/plain": [
       "                      LIBELLE_ARRET  NB_VALD        lon       lat  \\\n",
       "0                          ABBESSES  4432015  48.884505  2.338365   \n",
       "1             ACHERES-GRAND-CORMIER    67257  48.955388  2.092457   \n",
       "2                     ACHERES-VILLE  4999559  48.970248  2.077672   \n",
       "3      AEROPORT CHARLES DE GAULLE 1  6359722  49.010400  2.561357   \n",
       "4  AEROPORT CHARLES DE GAULLE 2-TGV  6776319  49.004199  2.570946   \n",
       "\n",
       "   nb_valid_per_month  \n",
       "0              147733  \n",
       "1                2241  \n",
       "2              166651  \n",
       "3              211990  \n",
       "4              225877  "
      ]
     },
     "execution_count": 13,
     "metadata": {},
     "output_type": "execute_result"
    }
   ],
   "source": [
    "data_map = X_train.groupby('LIBELLE_ARRET').agg({'NB_VALD': 'sum','lon':'mean','lat':'mean'})\n",
    "data_map['nb_valid_per_month'] = (data_map['NB_VALD'] / 30).astype(int)\n",
    "data_map = data_map[pd.notnull(data_map['lon'])]\n",
    "data_map.reset_index(level=0, inplace=True)\n",
    "data_map.head()"
   ]
  },
  {
   "cell_type": "code",
   "execution_count": 1,
   "metadata": {},
   "outputs": [
    {
     "ename": "NameError",
     "evalue": "name 'folium' is not defined",
     "output_type": "error",
     "traceback": [
      "\u001b[0;31m---------------------------------------------------------------------------\u001b[0m",
      "\u001b[0;31mNameError\u001b[0m                                 Traceback (most recent call last)",
      "\u001b[0;32m<ipython-input-1-0b60516f726e>\u001b[0m in \u001b[0;36m<module>\u001b[0;34m\u001b[0m\n\u001b[1;32m      1\u001b[0m \u001b[0mLDN_COORDINATES\u001b[0m \u001b[0;34m=\u001b[0m \u001b[0;34m(\u001b[0m\u001b[0;36m48.8534\u001b[0m\u001b[0;34m,\u001b[0m \u001b[0;36m2.3488\u001b[0m\u001b[0;34m)\u001b[0m\u001b[0;34m\u001b[0m\u001b[0;34m\u001b[0m\u001b[0m\n\u001b[0;32m----> 2\u001b[0;31m \u001b[0mmyMap\u001b[0m \u001b[0;34m=\u001b[0m \u001b[0mfolium\u001b[0m\u001b[0;34m.\u001b[0m\u001b[0mMap\u001b[0m\u001b[0;34m(\u001b[0m\u001b[0mlocation\u001b[0m\u001b[0;34m=\u001b[0m\u001b[0mLDN_COORDINATES\u001b[0m\u001b[0;34m,\u001b[0m \u001b[0mzoom_start\u001b[0m\u001b[0;34m=\u001b[0m\u001b[0;36m11\u001b[0m\u001b[0;34m)\u001b[0m\u001b[0;34m\u001b[0m\u001b[0;34m\u001b[0m\u001b[0m\n\u001b[0m\u001b[1;32m      3\u001b[0m \u001b[0;32mfor\u001b[0m \u001b[0mi\u001b[0m \u001b[0;32min\u001b[0m \u001b[0mrange\u001b[0m\u001b[0;34m(\u001b[0m\u001b[0;36m0\u001b[0m\u001b[0;34m,\u001b[0m\u001b[0mlen\u001b[0m\u001b[0;34m(\u001b[0m\u001b[0mdata_map\u001b[0m\u001b[0;34m)\u001b[0m\u001b[0;34m)\u001b[0m\u001b[0;34m:\u001b[0m\u001b[0;34m\u001b[0m\u001b[0;34m\u001b[0m\u001b[0m\n\u001b[1;32m      4\u001b[0m     folium.Circle(\n\u001b[1;32m      5\u001b[0m       \u001b[0mlocation\u001b[0m\u001b[0;34m=\u001b[0m\u001b[0;34m[\u001b[0m\u001b[0mdata_map\u001b[0m\u001b[0;34m.\u001b[0m\u001b[0miloc\u001b[0m\u001b[0;34m[\u001b[0m\u001b[0mi\u001b[0m\u001b[0;34m]\u001b[0m\u001b[0;34m[\u001b[0m\u001b[0;34m'lon'\u001b[0m\u001b[0;34m]\u001b[0m\u001b[0;34m,\u001b[0m \u001b[0mdata_map\u001b[0m\u001b[0;34m.\u001b[0m\u001b[0miloc\u001b[0m\u001b[0;34m[\u001b[0m\u001b[0mi\u001b[0m\u001b[0;34m]\u001b[0m\u001b[0;34m[\u001b[0m\u001b[0;34m'lat'\u001b[0m\u001b[0;34m]\u001b[0m\u001b[0;34m]\u001b[0m\u001b[0;34m,\u001b[0m\u001b[0;34m\u001b[0m\u001b[0;34m\u001b[0m\u001b[0m\n",
      "\u001b[0;31mNameError\u001b[0m: name 'folium' is not defined"
     ]
    }
   ],
   "source": [
    "LDN_COORDINATES = (48.8534, 2.3488)\n",
    "myMap = folium.Map(location=LDN_COORDINATES, zoom_start=11)\n",
    "for i in range(0,len(data_map)):\n",
    "    folium.Circle(\n",
    "      location=[data_map.iloc[i]['lon'], data_map.iloc[i]['lat']],\n",
    "      popup= Popup('<h3>'+ str(data_map.iloc[i]['LIBELLE_ARRET']).upper() + '</h3>' + '<br>'\n",
    "                 '<b> Mean_Nb_valid_per_Month: </b>' + str(data_map.iloc[i]['nb_valid_per_month']) + '<br>'\n",
    "                      \n",
    "                ),\n",
    "      radius=data_map.iloc[i]['nb_valid_per_month'].astype(float)/5000 ,\n",
    "      color='crimson',\n",
    "      fill=True,\n",
    "      fill_color='crimson',\n",
    "        \n",
    "\n",
    "   ).add_to(myMap)\n",
    " \n",
    "display(myMap)\n",
    "myMap.save(outfile= \"Map.html\")"
   ]
  },
  {
   "cell_type": "markdown",
   "metadata": {},
   "source": [
    "We can observe on the map that our data cover Paris and many other close cities. We remark that the number of validation is higher in center of Paris and in the station \"La Défense-Grande Arche\". \n",
    "As we can see below, if we click at a station, we can observe the average number of validation per month corresponding to this station."
   ]
  },
  {
   "cell_type": "markdown",
   "metadata": {},
   "source": [
    "[![map.png](https://i.postimg.cc/1Xq1th2N/map.png)](https://postimg.cc/5QbR7Gxx)"
   ]
  },
  {
   "cell_type": "markdown",
   "metadata": {},
   "source": [
    "#### Top 5 stations with higher number of validations per month"
   ]
  },
  {
   "cell_type": "code",
   "execution_count": 15,
   "metadata": {},
   "outputs": [
    {
     "data": {
      "image/png": "[encoded data removed]",
      "text/plain": [
       "<Figure size 1080x432 with 1 Axes>"
      ]
     },
     "metadata": {},
     "output_type": "display_data"
    }
   ],
   "source": [
    "data_map = data_map.sort_values(by='nb_valid_per_month', ascending=False)[:5]\n",
    "\n",
    "plt.figure(figsize=(15,6))\n",
    "y_pos = np.arange(data_map.shape[0])\n",
    "rects = plt.bar(y_pos, data_map['nb_valid_per_month'], align='center', alpha=0.5, color='b')\n",
    "plt.xticks(y_pos, data_map['LIBELLE_ARRET'])\n",
    "plt.ylabel('Average number of validations per month')\n",
    "plt.xlabel('Station_name')\n",
    "plt.title('Top 5 stations with higher number of validations per month')\n",
    "plt.show()"
   ]
  },
  {
   "cell_type": "markdown",
   "metadata": {},
   "source": [
    "### 4.5.  Validation and Stations characteristics"
   ]
  },
  {
   "cell_type": "markdown",
   "metadata": {},
   "source": [
    "#### 4.5.1 . Validation average with RER number per station "
   ]
  },
  {
   "cell_type": "code",
   "execution_count": 19,
   "metadata": {},
   "outputs": [
    {
     "data": {
      "image/png": "[encoded data removed]",
      "text/plain": [
       "<Figure size 576x360 with 1 Axes>"
      ]
     },
     "metadata": {},
     "output_type": "display_data"
    }
   ],
   "source": [
    "data_gare_vld = X_train[['NB_VALD','principal','nb_rer','nb_metro','Nbre plateformes']]\n",
    "\n",
    "data_nb_rer = data_gare_vld.groupby('nb_rer').agg({'NB_VALD':'mean'}).reset_index()\n",
    "plt.figure(figsize=(8,5))\n",
    "plt.subplots_adjust(hspace=2)\n",
    "index = np.arange(data_nb_rer.shape[0]).tolist()\n",
    "plt.bar(index, data_nb_rer['NB_VALD'], width=0.3,alpha=0.5,color = ['r','g','b'])\n",
    "\n",
    "plt.ylabel('Validation')\n",
    "plt.xlabel('RER number')\n",
    "plt.title('Validation average with RER number per station')\n",
    "plt.legend(index,loc = 2)\n",
    "plt.show()"
   ]
  },
  {
   "cell_type": "markdown",
   "metadata": {},
   "source": [
    "#### 4.5.2.  Validation average with Metro number per station "
   ]
  },
  {
   "cell_type": "code",
   "execution_count": 20,
   "metadata": {},
   "outputs": [
    {
     "data": {
      "image/png": "[encoded data removed]",
      "text/plain": [
       "<Figure size 576x360 with 1 Axes>"
      ]
     },
     "metadata": {},
     "output_type": "display_data"
    }
   ],
   "source": [
    "data_nb_metro = data_gare_vld.groupby('nb_metro').agg({'NB_VALD':'mean'})\n",
    "plt.figure(figsize=(8,5))\n",
    "index = np.arange(data_nb_metro.shape[0])\n",
    "plt.bar(index, data_nb_metro['NB_VALD'], width=0.3,alpha=0.5, color= ['r','g','b','c','darkred','yellowgreen'])\n",
    "\n",
    "plt.ylabel('Validation')\n",
    "plt.xlabel('Metro number per station')\n",
    "plt.title('Validation average with Metro number per station ')\n",
    "plt.legend(index,loc = 2)\n",
    "plt.show()"
   ]
  },
  {
   "cell_type": "markdown",
   "metadata": {},
   "source": [
    "#### 4.5.3 . Validation average with station type"
   ]
  },
  {
   "cell_type": "code",
   "execution_count": 21,
   "metadata": {},
   "outputs": [
    {
     "data": {
      "image/png": "[encoded data removed]",
      "text/plain": [
       "<Figure size 1152x432 with 2 Axes>"
      ]
     },
     "metadata": {},
     "output_type": "display_data"
    }
   ],
   "source": [
    "plt.figure(figsize=(16,6))\n",
    "\n",
    "plt.subplot(1,2,1)\n",
    "data_principal = data_gare_vld.groupby('principal').agg({'NB_VALD':'mean'})\n",
    "index = np.arange(data_principal.shape[0])\n",
    "plt.bar(index, data_principal['NB_VALD'], width=0.3,alpha=0.5, color= ['r','g'])\n",
    "plt.xticks([1,0],('Principal','Non principal'))\n",
    "plt.ylabel('Validation')\n",
    "plt.title('Validation average per station type : Principal / Non principal')\n",
    "\n",
    "plt.subplot(1,2,2)\n",
    "data_nbr_principal = data_gare_vld.groupby('principal')['principal'].count()\n",
    "index = np.arange(data_nbr_principal.shape[0])\n",
    "plt.bar(index, data_nbr_principal.values, width=0.3,alpha=0.5, color= ['r','g'])\n",
    "plt.xticks([1,0],('Principal','Non principal'))\n",
    "plt.ylabel('Station number')\n",
    "plt.title('Principal Vs non Principal')\n",
    "plt.show()"
   ]
  },
  {
   "cell_type": "markdown",
   "metadata": {},
   "source": [
    "<a id='Prediction'></a>\n",
    "## 5. Prediction"
   ]
  },
  {
   "cell_type": "markdown",
   "metadata": {},
   "source": [
    "### 5.1.Feature Extractor"
   ]
  },
  {
   "cell_type": "code",
   "execution_count": null,
   "metadata": {},
   "outputs": [],
   "source": [
    "from sklearn.impute import SimpleImputer\n",
    "from sklearn.compose import ColumnTransformer\n",
    "from sklearn.pipeline import make_pipeline\n",
    "from sklearn.preprocessing import FunctionTransformer\n",
    "from sklearn.pipeline import Pipeline\n",
    "\n",
    "\n",
    "class FeatureExtractor(object):\n",
    "    def __init__(self):\n",
    "        pass\n",
    "\n",
    "    def fit(self, X_df, y_array):\n",
    "        return(self)\n",
    "\n",
    "    def transform(self, X_df):\n",
    "        return self.preprocessor.transform(X_df)"
   ]
  },
  {
   "cell_type": "markdown",
   "metadata": {},
   "source": [
    "### 5.2.Regressor"
   ]
  },
  {
   "cell_type": "code",
   "execution_count": null,
   "metadata": {},
   "outputs": [],
   "source": [
    "from sklearn.ensemble import RandomForestRegressor\n",
    "from sklearn.base import BaseEstimator\n",
    "\n",
    "\n",
    "class Regressor(BaseEstimator):\n",
    "    def __init__(self):\n",
    "        self.reg = RandomForestRegressor(n_estimators=5)\n",
    "\n",
    "    def fit(self, X, y):\n",
    "        self.reg.fit(X, y)\n",
    "\n",
    "    def predict(self, X):\n",
    "        return self.reg.predict(X)"
   ]
  },
  {
   "cell_type": "markdown",
   "metadata": {},
   "source": [
    "<a id='Evaluation'></a>\n",
    "## 6. Evaluation"
   ]
  },
  {
   "cell_type": "markdown",
   "metadata": {},
   "source": [
    "<a id='Local-testing'></a>\n",
    "## 7. Local Testing"
   ]
  },
  {
   "cell_type": "code",
   "execution_count": null,
   "metadata": {},
   "outputs": [],
   "source": []
  }
 ],
 "metadata": {
  "kernelspec": {
   "display_name": "Python 3",
   "language": "python",
   "name": "python3"
  },
  "language_info": {
   "codemirror_mode": {
    "name": "ipython",
    "version": 3
   },
   "file_extension": ".py",
   "mimetype": "text/x-python",
   "name": "python",
   "nbconvert_exporter": "python",
   "pygments_lexer": "ipython3",
   "version": "3.7.4"
  }
 },
 "nbformat": 4,
 "nbformat_minor": 4
}
